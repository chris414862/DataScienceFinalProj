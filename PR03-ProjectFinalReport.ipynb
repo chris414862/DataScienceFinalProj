{
 "cells": [
  {
   "cell_type": "markdown",
   "metadata": {
    "deletable": false,
    "editable": false,
    "nbgrader": {
     "cell_type": "markdown",
     "checksum": "d3fc0360deff423322429ec1a4767592",
     "grade": false,
     "grade_id": "cell-ea1356fb2fa161a8",
     "locked": true,
     "schema_version": 3,
     "solution": false,
     "task": false
    }
   },
   "source": [
    "# Project Final Report "
   ]
  },
  {
   "cell_type": "markdown",
   "metadata": {
    "deletable": false,
    "nbgrader": {
     "cell_type": "markdown",
     "checksum": "2d8aa2d2d0bc6c76d7aa59ab0d85b45b",
     "grade": true,
     "grade_id": "cell-7640bee6ae584ffd",
     "locked": false,
     "points": 0.1,
     "schema_version": 3,
     "solution": true,
     "task": false
    }
   },
   "source": [
    "## Background\n",
    "My research labs works on privacy and software related issues and currently we are attempting to automate the varification of privacy policy adherence in Android applications. In order to do that a crital mapping must be obtained. We must be able to map methods in the Android API to important words and phrases in privacy policies. This was previously done manually, but my project in the lab is to find a way to automate creating this mapping. My current model is performing well, but I need to compare it some baseline methods. This is what I will do in this project."
   ]
  },
  {
   "cell_type": "markdown",
   "metadata": {
    "deletable": false,
    "editable": false,
    "nbgrader": {
     "cell_type": "markdown",
     "checksum": "76b16ad7c6ae54ecc981707fd8ad590e",
     "grade": false,
     "grade_id": "cell-259aa4719392cc9c",
     "locked": true,
     "schema_version": 3,
     "solution": false,
     "task": false
    }
   },
   "source": [
    "## Research Objective"
   ]
  },
  {
   "cell_type": "markdown",
   "metadata": {
    "deletable": false,
    "nbgrader": {
     "cell_type": "markdown",
     "checksum": "74bbd0fc70113f53dca8513830ed126f",
     "grade": true,
     "grade_id": "cell-29f5cd4b5520d845",
     "locked": false,
     "points": 0.1,
     "schema_version": 3,
     "solution": true,
     "task": false
    }
   },
   "source": [
    "Objective statement:\n",
    "- I will create baseline classification standards to predict whether an Android API method manipulates/returns information associated with data types defined in privacy policies by using classical sparse vector space representations of the data with standard linear and non-linear classifiers.\n",
    "- As a secondary objective I will contrast using nltk for text processing and data exploration with using the newer spaCy and gensim packages. "
   ]
  },
  {
   "cell_type": "markdown",
   "metadata": {
    "deletable": false,
    "editable": false,
    "nbgrader": {
     "cell_type": "markdown",
     "checksum": "8bc2fe34b11ef101e41124bca8e62af7",
     "grade": false,
     "grade_id": "cell-8770d1ab57c81792",
     "locked": true,
     "points": 0.8,
     "schema_version": 3,
     "solution": false,
     "task": true
    }
   },
   "source": [
    "## Data Description"
   ]
  },
  {
   "cell_type": "markdown",
   "metadata": {},
   "source": [
    "I will be using data I scraped from the Android API documentation on this page (https://developer.android.com/reference/packages). Previously my lab published work based on API levels 24 and below, so I will only be using that data. Also, only a subset of this data was annotated so I will list the annotated data's attributes separately. I am including the unannotated data because I will use it for initializing word embeddings, which should help the spaCy model work better.\n",
    "\n",
    "After annotating, my lab found that very few of of the methods mapped to privacy policy data types so the last catagory is only information regarding these methods. You can clearly see that there is not a lot of data to learn from. This is why I hypothesized that a pre-trained neural model would work well. However, the model would still most likey be used in conjunction with statistical data to make the final classifier. Before then, though, I must compare different baseline text models directly. For reference, my newer deep learning model has been getting on average ~%55 micro f1 and ~%44 macro f1 with this data, and about %10 higher if you use the classes with higher support.\n",
    "\n",
    "To augment the data I transformed each method's documentation record by splitting it into sentences and adding those as independant instances. I also added a record for each method based on the method's name. This transformation added a lot of noise to the dataset, but it was necessary for any meaningful evaluation."
   ]
  },
  {
   "cell_type": "markdown",
   "metadata": {
    "deletable": false,
    "editable": false,
    "nbgrader": {
     "cell_type": "markdown",
     "checksum": "0a0e480232550900366ae2fc89b3dc39",
     "grade": false,
     "grade_id": "cell-141a2bb87d84a15e",
     "locked": true,
     "points": 1.1,
     "schema_version": 3,
     "solution": false,
     "task": true
    }
   },
   "source": [
    "## Data Exploration"
   ]
  },
  {
   "cell_type": "markdown",
   "metadata": {},
   "source": []
  },
  {
   "cell_type": "markdown",
   "metadata": {
    "deletable": false,
    "editable": false,
    "nbgrader": {
     "cell_type": "markdown",
     "checksum": "fd744aac8dbd1e06bdf48a27c51b783a",
     "grade": false,
     "grade_id": "cell-01669f3b88a0d3c0",
     "locked": true,
     "points": 1.4,
     "schema_version": 3,
     "solution": false,
     "task": true
    }
   },
   "source": [
    "## Modeling"
   ]
  },
  {
   "cell_type": "markdown",
   "metadata": {},
   "source": []
  },
  {
   "cell_type": "markdown",
   "metadata": {
    "deletable": false,
    "editable": false,
    "nbgrader": {
     "cell_type": "markdown",
     "checksum": "bde1b35132c1a398dc85777e84077987",
     "grade": false,
     "grade_id": "cell-90734565b7bf5f55",
     "locked": true,
     "points": 1.4,
     "schema_version": 3,
     "solution": false,
     "task": true
    }
   },
   "source": [
    "## Summary"
   ]
  },
  {
   "cell_type": "markdown",
   "metadata": {},
   "source": []
  },
  {
   "cell_type": "markdown",
   "metadata": {
    "deletable": false,
    "editable": false,
    "nbgrader": {
     "cell_type": "markdown",
     "checksum": "756651165e7bc40c5187b10d7512cc18",
     "grade": false,
     "grade_id": "cell-e433e71229b731e8",
     "locked": true,
     "points": 0.1,
     "schema_version": 3,
     "solution": false,
     "task": true
    }
   },
   "source": [
    "## References"
   ]
  },
  {
   "cell_type": "markdown",
   "metadata": {},
   "source": []
  },
  {
   "cell_type": "markdown",
   "metadata": {
    "deletable": false,
    "editable": false,
    "nbgrader": {
     "cell_type": "markdown",
     "checksum": "8378ae5edb71fdf423e238b3dc93cbfc",
     "grade": false,
     "grade_id": "cell-f57962667241d9e7",
     "locked": true,
     "points": 4,
     "schema_version": 3,
     "solution": false,
     "task": true
    }
   },
   "source": [
    "## Presentation Credit\n",
    "Do not put anything below this cell."
   ]
  }
 ],
 "metadata": {
  "kernelspec": {
   "display_name": "Python 3",
   "language": "python",
   "name": "python3"
  },
  "language_info": {
   "codemirror_mode": {
    "name": "ipython",
    "version": 3
   },
   "file_extension": ".py",
   "mimetype": "text/x-python",
   "name": "python",
   "nbconvert_exporter": "python",
   "pygments_lexer": "ipython3",
   "version": "3.7.3"
  }
 },
 "nbformat": 4,
 "nbformat_minor": 4
}
