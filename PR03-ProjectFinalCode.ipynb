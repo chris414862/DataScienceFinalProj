{
 "cells": [
  {
   "cell_type": "markdown",
   "metadata": {
    "deletable": false,
    "editable": false,
    "nbgrader": {
     "cell_type": "markdown",
     "checksum": "f6de454b8e379477f0b24d4aeb46b54f",
     "grade": false,
     "grade_id": "cell-ea1356fb2fa161a8",
     "locked": true,
     "schema_version": 3,
     "solution": false,
     "task": false
    }
   },
   "source": [
    "# Project Final Code"
   ]
  },
  {
   "cell_type": "markdown",
   "metadata": {},
   "source": [
    "## Overview\n",
    "[Background](#Background)<br>\n",
    "[Objective](#Objective)<br>\n",
    "[Setup](#Setup)<br>\n",
    "[Data Preparation](#Data-Preparation)<br>\n",
    "[Data Exploration](#Data-Exploration)<br>\n",
    "- [NLTK comparison with SpaCy and Gensim](#NLTK-comparison-with-SpaCy-and-Gensim)\n",
    "  - [Run Comparisons](#Run-Comparisons)<br>\n",
    "- [Exploration of dataset properties using SpaCy](#Exploration-of-dataset-properties-using-SpaCy)\n",
    "  - [Run Exploration of dataset properties using SpaCy](#Run-Exploration-of-dataset-properties-using-SpaCy)<br>\n",
    "  \n",
    "[Modeling](#Modeling)<br>\n",
    "- [Run Linear SVC](#Run-Linear-SVC)"
   ]
  },
  {
   "cell_type": "markdown",
   "metadata": {},
   "source": [
    "## Background"
   ]
  },
  {
   "cell_type": "markdown",
   "metadata": {
    "deletable": false,
    "nbgrader": {
     "cell_type": "markdown",
     "checksum": "c13f0fb473d6c832136a348847c3d245",
     "grade": true,
     "grade_id": "cell-520b9a1998578280",
     "locked": false,
     "points": 0.1,
     "schema_version": 3,
     "solution": true,
     "task": false
    }
   },
   "source": [
    "I will be using data I scraped from the Android API documentation on this page (https://developer.android.com/reference/packages). Previously my lab published work based on API levels 24 and below, so I will only be using that data. Also, only a subset of this data was annotated so I will list the annotated data's attributes separately. I am including the unannotated data because I will use it for initializing word embeddings, which should help the spaCy model work better.\n",
    "\n",
    "After annotating, my lab found that very few of of the methods mapped to privacy policy data types so the last catagory is only information regarding these methods. You can clearly see that there is not a lot of data to learn from. This is why I hypothesized that a pre-trained neural model would work well. However, the model would still most likey be used in conjunction with statistical data to make the final classifier. Before then, though, I must compare different baseline text models directly. For reference, my newer deep learning model has been getting on average ~%55 micro f1 and ~%44 macro f1 with this data, and about %10 higher if you use the classes with higher support.\n",
    "\n",
    "To augment the data I transformed each method's documentation record by splitting it into sentences and adding those as independant instances. I also added a record for each method based on the method's name. This transformation added a lot of noise to the dataset, but it was necessary for any meaningful evaluation.\n",
    "\n",
    "\n"
   ]
  },
  {
   "cell_type": "markdown",
   "metadata": {},
   "source": [
    "## Objective\n",
    "Objective statement:\n",
    "- I will create baseline classification standards to predict whether an Android API method manipulates/returns information associated with data types defined in privacy policies by using classical sparse vector space representations of the data with standard linear and non-linear classifiers.\n",
    "- As a secondary objective I will contrast using nltk for text processing and data exploration with using the newer spaCy and gensim packages. "
   ]
  },
  {
   "cell_type": "markdown",
   "metadata": {
    "deletable": false,
    "editable": false,
    "nbgrader": {
     "cell_type": "markdown",
     "checksum": "8afa10661e34a7e5d2ac29a291d29af8",
     "grade": false,
     "grade_id": "cell-259aa4719392cc9c",
     "locked": true,
     "schema_version": 3,
     "solution": false,
     "task": false
    }
   },
   "source": [
    "## Obtaining the Data\n",
    "The data required for this project may be obtained as follows."
   ]
  },
  {
   "cell_type": "markdown",
   "metadata": {
    "deletable": false,
    "nbgrader": {
     "cell_type": "markdown",
     "checksum": "6e9e40aaf5be6e8697f52969f9bf1edc",
     "grade": true,
     "grade_id": "cell-5d0765799a830601",
     "locked": false,
     "points": 0.1,
     "schema_version": 3,
     "solution": true,
     "task": false
    }
   },
   "source": [
    "All data can be found on this github repository (https://github.com/chris414862/DataScienceFinalProj.git) in the proj_data folder."
   ]
  },
  {
   "cell_type": "markdown",
   "metadata": {
    "deletable": false,
    "editable": false,
    "nbgrader": {
     "cell_type": "markdown",
     "checksum": "24df493960920d9ea471708f06fbace8",
     "grade": false,
     "grade_id": "cell-8770d1ab57c81792",
     "locked": true,
     "points": 0.5,
     "schema_version": 3,
     "solution": false,
     "task": true
    }
   },
   "source": [
    "## Setup"
   ]
  },
  {
   "cell_type": "code",
   "execution_count": 336,
   "metadata": {},
   "outputs": [
    {
     "name": "stderr",
     "output_type": "stream",
     "text": [
      "[nltk_data] Downloading package maxent_ne_chunker to\n",
      "[nltk_data]     C:\\Users\\ChrisCrabtree\\AppData\\Roaming\\nltk_data...\n",
      "[nltk_data]   Package maxent_ne_chunker is already up-to-date!\n"
     ]
    }
   ],
   "source": [
    "import os\n",
    "import csv\n",
    "from collections import Counter\n",
    "import re\n",
    "import numpy as np\n",
    "import pandas as pd\n",
    "import pickle\n",
    "import pprint\n",
    "import spacy\n",
    "import nltk\n",
    "\n",
    "from spacy.tokens import Doc,DocBin\n",
    "import matplotlib.pyplot as plt\n",
    "from gensim.summarization.textcleaner import get_sentences\n",
    "from nltk.tokenize import sent_tokenize, word_tokenize\n",
    "from nltk import pos_tag, ne_chunk\n",
    "import matplotlib.pyplot as plt\n",
    "from nltk.stem.wordnet import WordNetLemmatizer\n",
    "from nltk.stem import PorterStemmer\n",
    "from nltk.tokenize import word_tokenize\n",
    "from sklearn.feature_extraction.text import TfidfVectorizer\n",
    "from sklearn.svm import LinearSVC\n",
    "from sklearn.model_selection import train_test_split\n",
    "from sklearn.metrics import precision_recall_fscore_support as prfs\n",
    "from sklearn.model_selection import KFold\n",
    "\n",
    "nltk.download('maxent_ne_chunker')\n",
    "datadir = 'proj_data'\n",
    "source_filename = 'android_semi_cleaned.csv'\n",
    "full_filename = 'android_cleaned_FULL.csv' \n",
    "annotated_filename = 'android_cleaned_ANNOTATED_ONLY.csv'\n",
    "mappings_data_filename = 'mappings_cleaned.csv'\n",
    "cleaned_records_filename = 'records_cleaned.pickle'\n",
    "source_path = os.path.join(datadir, source_filename)\n",
    "mappings_path = os.path.join(datadir, mappings_data_filename) \n",
    "annotated_path = os.path.join(datadir, annotated_filename)\n",
    "full_path = os.path.join(datadir, full_filename)\n",
    "MODEL_COMPARISON_DIR = 'model_comparisons'\n",
    "nltk_tok_f= 'nltk_tok_by_sent.npy'\n",
    "spacy_tok_f= 'spacy_tok_by_sent.npy'\n",
    "tok_diffs_f= 'tok_dif.npy'\n",
    "nltk_pos_f= 'nltk_pos_by_sent.npy'\n",
    "spacy_pos_f= 'spacy_pos_by_sent.npy'\n",
    "nltk_ner_f = 'nltk_ner.npy'\n",
    "spacy_ner_f= 'spacy_ner.npy'\n",
    "parsed_docs_f = 'parsed_docs.npy'\n",
    "doc_partitions = 15"
   ]
  },
  {
   "cell_type": "markdown",
   "metadata": {
    "deletable": false,
    "editable": false,
    "nbgrader": {
     "cell_type": "markdown",
     "checksum": "619970a9d0e740b6cbcd0f1cbc67b906",
     "grade": false,
     "grade_id": "cell-5864d3b3e792fc82",
     "locked": true,
     "points": 1.1,
     "schema_version": 3,
     "solution": false,
     "task": true
    }
   },
   "source": [
    "## Data Preparation"
   ]
  },
  {
   "cell_type": "markdown",
   "metadata": {},
   "source": [
    "Here I access and clean my data. "
   ]
  },
  {
   "cell_type": "markdown",
   "metadata": {},
   "source": [
    "### Accessing data"
   ]
  },
  {
   "cell_type": "code",
   "execution_count": 245,
   "metadata": {},
   "outputs": [],
   "source": [
    "def access_data(path):\n",
    "    print('Accessing data from:',path)\n",
    "    with open(path,'r', newline='', encoding='utf-8') as f:\n",
    "        reader = csv.reader(f, dialect='excel')\n",
    "        docs = []\n",
    "        methods = []\n",
    "        method_documents = {}\n",
    "        for i, row in enumerate(reader):\n",
    "            method = row[0]\n",
    "            doc = row[1] \n",
    "            if method in method_documents:\n",
    "                if [sent for sent in method_documents[method] if sent == doc] == []:\n",
    "                    method_documents[method].append(doc)\n",
    "            else:\n",
    "                method_documents[method] = [doc]\n",
    "            methods.append(method)\n",
    "            docs.append(doc)\n",
    "        return methods, docs, method_documents\n"
   ]
  },
  {
   "cell_type": "markdown",
   "metadata": {},
   "source": [
    "### Remove HTML"
   ]
  },
  {
   "cell_type": "code",
   "execution_count": 84,
   "metadata": {},
   "outputs": [],
   "source": [
    "def my_html_remover(doc):\n",
    "    return re.sub('''</?\\w+((\\s+\\w+(\\s*=\\s*(?:\".*?\"|'.*?'|[\\^'\">\\s]+))?)+\\s*|\\s*)/?>''','', doc)"
   ]
  },
  {
   "cell_type": "markdown",
   "metadata": {},
   "source": [
    "### General Cleaning\n",
    "Here I will only be doing simple cleaning operations in order to demonstrate more clearly the differences between the NLTK and SpaCy packages. Other cleaning such as punctuation removal and lemmatization will not be done here and will be considered later in the presentation. "
   ]
  },
  {
   "cell_type": "code",
   "execution_count": 85,
   "metadata": {},
   "outputs": [],
   "source": [
    "def my_cleaner(docs):\n",
    "    new_docs = []\n",
    "    for doc in docs:\n",
    "        # standardize spaces and newlines\n",
    "        new_doc = re.sub(r'\\s+', ' ', doc)\n",
    "        new_doc = re.sub(r'\\s+\\.\\s+', '. ', new_doc)\n",
    "        new_doc = my_html_remover(new_doc)\n",
    "        new_docs.append(new_doc)\n",
    "    return new_docs\n",
    "\n",
    "def get_docs(path):\n",
    "    methods, docs, docs_by_method = access_data(path)\n",
    "    docs = my_cleaner(docs)\n",
    "    return pd.DataFrame({'docs': docs, 'methods':methods}), docs_by_method"
   ]
  },
  {
   "cell_type": "markdown",
   "metadata": {
    "deletable": false,
    "editable": false,
    "nbgrader": {
     "cell_type": "markdown",
     "checksum": "0a0e480232550900366ae2fc89b3dc39",
     "grade": false,
     "grade_id": "cell-141a2bb87d84a15e",
     "locked": true,
     "points": 1.2,
     "schema_version": 3,
     "solution": false,
     "task": true
    }
   },
   "source": [
    "## Data Exploration"
   ]
  },
  {
   "cell_type": "markdown",
   "metadata": {},
   "source": [
    "This section will be split into two main sections: [NLTK comparison with SpaCy and Gensim](#NLTK-comparison-with-SpaCy-and-Gensim) and [Exploration of dataset properties using SpaCy](#Exploration-of-dataset-properties-using-SpaCy ) "
   ]
  },
  {
   "cell_type": "markdown",
   "metadata": {},
   "source": [
    "### NLTK comparison with SpaCy and Gensim"
   ]
  },
  {
   "cell_type": "markdown",
   "metadata": {},
   "source": [
    "Here I will show how several common NLP tasks are accomplished (in the context of data exploration) with NLTK and newer packages like SpaCy and Gensim. I will compare each and conclude with an anlaysis of the different approaches. For the purpose of demonstration, I will show SpaCy's functionality in pieces, but normally text processing with SpaCy is pipelined automatically with options for minor alterations.<br><br>\n",
    "[Overview](#Overview)"
   ]
  },
  {
   "cell_type": "markdown",
   "metadata": {},
   "source": [
    "#### Sentence tokenization with NLTK"
   ]
  },
  {
   "cell_type": "code",
   "execution_count": 86,
   "metadata": {},
   "outputs": [],
   "source": [
    "def sent_toks_nltk(docs):\n",
    "    return [[s.strip(':. \"') for s in sent_tokenize(doc)] for doc in docs ]"
   ]
  },
  {
   "cell_type": "markdown",
   "metadata": {},
   "source": [
    "#### Sentence tokenization with gensim"
   ]
  },
  {
   "cell_type": "code",
   "execution_count": 87,
   "metadata": {},
   "outputs": [],
   "source": [
    "def sent_toks_gensim(docs):\n",
    "    return [[s.strip(':. \"') for s in get_sentences(doc)] for doc in docs ]"
   ]
  },
  {
   "cell_type": "markdown",
   "metadata": {},
   "source": [
    "#### Sentence tokenization comparison"
   ]
  },
  {
   "cell_type": "code",
   "execution_count": 195,
   "metadata": {},
   "outputs": [],
   "source": [
    "def get_differences(orig_docs, nltk_docs, gensim_docs):\n",
    "    diff_cnt = 0\n",
    "    diff_orig, diff_nltk, diff_gensim = [],[],[]\n",
    "    same = []\n",
    "    for i, (orig_doc, nltk_doc, gensim_doc) in enumerate(zip(orig_docs,nltk_docs, gensim_docs)):        \n",
    "        # keep track of differences to prevent over-counting\n",
    "        diff_list=[]\n",
    "        \n",
    "        # must search sequentially to track where differences occur. Set operations would lose alignment\n",
    "        for i, (nltk_sent, gensim_sent) in enumerate(zip(nltk_doc, gensim_doc)):\n",
    "            \n",
    "            if (nltk_sent not in gensim_doc or gensim_sent not in nltk_doc) \\\n",
    "                and ([l for l in diff_list if gensim_sent in l or nltk_sent in l] == []):\n",
    "                diff_cnt += 1\n",
    "                diff_list.extend([nltk_sent,gensim_sent])\n",
    "                diff_orig.append(orig_doc)\n",
    "                diff_nltk.append(nltk_sent)\n",
    "                diff_gensim.append(gensim_sent)\n",
    "        \n",
    "            else:\n",
    "                same.append(gensim_sent)\n",
    "    diff_examples = pd.DataFrame({'Original':diff_orig,'nltk':diff_nltk,'gensim':diff_gensim})\n",
    "    \n",
    "    return diff_cnt, diff_examples, same\n",
    "        \n",
    "        \n",
    "def compare_sent_tokenization(docs):\n",
    "    \n",
    "    nltk_docs_tokenized = sent_toks_nltk(docs)\n",
    "    gensim_docs_tokenized = sent_toks_gensim(docs)\n",
    "    diff_cnt, diff_examples, _ = get_differences(docs, nltk_docs_tokenized, gensim_docs_tokenized)\n",
    "    \n",
    "    num_nltk_sents = sum([len(d) for d in nltk_docs_tokenized])\n",
    "    num_gensim_sents = sum([len(d) for d in gensim_docs_tokenized])\n",
    "    avg_diff_len_nltk = sum([len(d.split()) for d in diff_examples['nltk']])/diff_cnt\n",
    "    avg_diff_len_gensim = sum([len(d.split()) for d in diff_examples['gensim']])/diff_cnt\n",
    "    diff_sent_lens = [(len(doc1),len(doc2)) for doc1,doc2 in zip(nltk_docs_tokenized,gensim_docs_tokenized)\\\n",
    "                                                if len(doc1) != len(doc2) ]\n",
    "    frac_nltk_greater = len(list(filter(lambda x:x[0]>x[1], diff_sent_lens)))/len(diff_sent_lens)\n",
    "    avg_diff_sents_nltk = sum([len(doc) for doc in nltk_docs_tokenized])/len(nltk_docs_tokenized)\n",
    "    avg_diff_sents_gensim = sum([len(doc) for doc in gensim_docs_tokenized])/len(gensim_docs_tokenized)\n",
    "    \n",
    "    print(f\"Total number of documents: {len(docs):,}\")\n",
    "    print(f\"Number of differences: {diff_cnt:,}\")\n",
    "    print(f\"{'NLTK':>65}{'Gensim':>20}\")\n",
    "    print(f\"{'Number of senteces:':>45}{num_nltk_sents:>20,}{num_gensim_sents:>20,}\")\n",
    "    print(f\"{'Avg. #tokens of differences:':>45}{avg_diff_len_nltk:>20.3f}{avg_diff_len_gensim:>20.3f}\")\n",
    "    print(f\"{'Pct. documents with the most senteces:':>45}{frac_nltk_greater:>20.2%}{(1-frac_nltk_greater):>20.2%}\")\n",
    "    print('\\nEXAMPLES OF SENTENCE TOKENIZATION DIFFERENCES:')\n",
    "    diff_list = []\n",
    "    printed = 0\n",
    "    for i,(orig,nltk_sent, gensim_sent) in diff_examples.iterrows():\n",
    "          if len(orig.split()) > 100:\n",
    "              continue\n",
    "          if printed >= 3:\n",
    "              break\n",
    "          if orig not in diff_list:\n",
    "              print('\\nORIGINAL:',orig)\n",
    "\n",
    "          print('NLTK:', nltk_sent)\n",
    "          print('GENSIM:', gensim_sent)\n",
    "          diff_list.append(orig)\n",
    "          printed += 1\n",
    "    print()\n",
    "    \n"
   ]
  },
  {
   "cell_type": "markdown",
   "metadata": {},
   "source": [
    "#### Tokenization with NLTK"
   ]
  },
  {
   "cell_type": "code",
   "execution_count": 89,
   "metadata": {},
   "outputs": [],
   "source": [
    "def nltk_tokenize(sent):\n",
    "    return word_tokenize(sent)"
   ]
  },
  {
   "cell_type": "markdown",
   "metadata": {},
   "source": [
    "#### Tokenization with SpaCy\n",
    "SpaCy provides models that are automatically pipelined, so one call will tokenize, tag, and identify named entities. For the purpose of comparison I will show how to only obtain the tokens. Spacy also has a clear API with easy instructions to alter the behavior of it's tokenization. I include functions here that include tokens unique to the Android corpus."
   ]
  },
  {
   "cell_type": "code",
   "execution_count": 98,
   "metadata": {},
   "outputs": [],
   "source": [
    "def spacy_tokenize(sent, model):\n",
    "    return [tok.text for tok in model(sent)]\n",
    "\n",
    "# Here I search for instances of a method or class (e.g. setStructuredData(String))\n",
    "def my_retokenizer(doc):\n",
    "            # methods\n",
    "    expressions = [r'[A-Za-z_]+(\\.[A-Za-z_]+)* ?\\( ?[A-Za-z_\\.]* ?\\)']\n",
    "    # Camel case w/ periods\n",
    "    expressions.append(r'(([A-Za-z_]*)\\.)+[A-Za-z_]*')\n",
    "    # General camel case \n",
    "    expressions.append(r'[A-Z]?([a-z]+[A-Z])+[a-z]+')\n",
    "    # Constants\n",
    "    expressions.append(r'[A-Z_]{4,}')\n",
    "\n",
    "    compiled_expressions = [re.compile(expression)  for expression in expressions]\n",
    "        for i,expression in enumerate(compiled_expressions):\n",
    "            doc = process_match_insertion(doc, expression, ent_label='MT_OR_CL', tok_attrs={'POS' : 'PROPN'})\n",
    "\n",
    "    return doc\n",
    "\n",
    "\n",
    "def process_match_insertion(doc, expression, ent_label=None, tok_attrs=None):\n",
    "    count=0\n",
    "    for match in re.finditer(expression, doc.text):\n",
    "        count+=1\n",
    "        if match.group(0) not in ['e.g.', 'i.e.']:\n",
    "            start,end = match.span()\n",
    "            span = doc.char_span(start, end, label = ent_label)\n",
    "            if span is not None:\n",
    "                pot_ents = [ent for ent in doc.ents if ent.start >= span.start or ent.end <= span.end]\n",
    "                if pot_ents != []:\n",
    "                    new_ents= list(doc.ents)\n",
    "                    [new_ents.remove(pe) for pe in pot_ents]\n",
    "                    doc.ents = new_ents\n",
    "                doc.ents = list(doc.ents) + [span]\n",
    "                with doc.retokenize() as retokenizer:\n",
    "                    retokenizer.merge(span, attrs=tok_attrs)\n",
    "    return doc"
   ]
  },
  {
   "cell_type": "markdown",
   "metadata": {},
   "source": [
    "#### POS tagging w/ NLTK"
   ]
  },
  {
   "cell_type": "code",
   "execution_count": 91,
   "metadata": {},
   "outputs": [],
   "source": [
    "def nltk_pos(text):\n",
    "    return pos_tag(nltk_tokenize(text))"
   ]
  },
  {
   "cell_type": "markdown",
   "metadata": {},
   "source": [
    "#### POS tagging w/ SpaCy\n"
   ]
  },
  {
   "cell_type": "code",
   "execution_count": 92,
   "metadata": {},
   "outputs": [],
   "source": [
    "def spacy_pos(sent, model):\n",
    "    return [tok.pos_ for tok in model(sent)]"
   ]
  },
  {
   "cell_type": "markdown",
   "metadata": {},
   "source": [
    "#### NER w/ NLTK"
   ]
  },
  {
   "cell_type": "code",
   "execution_count": 93,
   "metadata": {},
   "outputs": [],
   "source": [
    "def nltk_ner(text):\n",
    "    return ne_chunk(nltk_pos(nltk_tokenize(text)))"
   ]
  },
  {
   "cell_type": "markdown",
   "metadata": {},
   "source": [
    "#### NER w/ SpaCy"
   ]
  },
  {
   "cell_type": "code",
   "execution_count": 94,
   "metadata": {},
   "outputs": [],
   "source": [
    "def spacy_ner(sent, model):\n",
    "    return [(ent.text,ent.label_) for ent in model(sent).ents]"
   ]
  },
  {
   "cell_type": "markdown",
   "metadata": {},
   "source": [
    "#### Functions for Comparisons"
   ]
  },
  {
   "cell_type": "code",
   "execution_count": 282,
   "metadata": {},
   "outputs": [],
   "source": [
    "\n",
    "def load_comparison_info():\n",
    "    if MODEL_COMPARISON_DIR in os.listdir():\n",
    "        print('Loading pre-computed token-level info:')\n",
    "        filenames = [nltk_tok_f,spacy_tok_f,tok_diffs_f, nltk_pos_f, spacy_pos_f, nltk_ner_f, spacy_ner_f,parsed_docs_f]\n",
    "        variables = {'nltk_tok':None  ,'spacy_tok':None   ,'tok_diffs' :None  , 'nltk_pos':None   \n",
    "                     , 'spacy_pos' :None  , 'nltk_ner' :None  , 'spacy_ner':None, 'parsed_docs':None}\n",
    "\n",
    "        if len([f for f in filenames if f in os.listdir(MODEL_COMPARISON_DIR)]) >= len(filenames)-1:\n",
    "            for file, variable in zip(filenames, variables.keys()):\n",
    "                variables[variable] = []\n",
    "                if variable == 'parsed_docs':\n",
    "                    \n",
    "                    for i in range(doc_partitions):\n",
    "                        batch_file = re.sub(r'\\.npy', '', file)+str(i)+'.npy'\n",
    "                        print('\\tLoading',batch_file)\n",
    "                        file_path = os.path.join(MODEL_COMPARISON_DIR,batch_file) \n",
    "                        variables[variable].append(np.load(file_path, allow_pickle=True).tolist())\n",
    "                    variables[variable] = np.concatenate(variables[variable], axis=0).tolist()\n",
    "                \n",
    "                else:\n",
    "                    print('\\tLoading',file)\n",
    "                    file_path = os.path.join(MODEL_COMPARISON_DIR,file)                 \n",
    "                    variables[variable] = np.load(file_path, allow_pickle=True).tolist()\n",
    "\n",
    "        tok_info = (variables['nltk_tok'], variables['spacy_tok'], variables['tok_diffs'])\n",
    "        pos_info = (variables['nltk_pos'],variables['spacy_pos'])\n",
    "        ner_info = (variables['nltk_ner'], variables['spacy_ner'])\n",
    "        return tok_info,pos_info, ner_info, variables['parsed_docs']\n",
    "    else:\n",
    "        return None\n",
    "    \n",
    "def save_comparison_info(tok_info, pos_info, ner_info, parsed_docs):\n",
    "    nltk_tok, spacy_tok, tok_diffs = tok_info[0], tok_info[1], tok_info[2]\n",
    "    nltk_pos, spacy_pos = pos_info[0], pos_info[1]\n",
    "    nltk_ner, spacy_ner = ner_info[0], ner_info[1]\n",
    "    try:\n",
    "        os.makedirs(MODEL_COMPARISON_DIR)\n",
    "    except OSError as e:\n",
    "        if e.errno != errno.EEXIST:\n",
    "            raise\n",
    "    print('Saving pre-computed token-level info:')\n",
    "    filenames = [nltk_tok_f,spacy_tok_f,tok_diffs_f, nltk_pos_f, spacy_pos_f, nltk_ner_f, spacy_ner_f, parsed_docs_f]\n",
    "    variables = [nltk_tok  ,spacy_tok  ,tok_diffs  , nltk_pos  , spacy_pos  , nltk_ner  , spacy_ner, parsed_docs]\n",
    "    for file, variable in zip(filenames, variables):\n",
    "        if variable == parsed_docs:\n",
    "            batch_size = len(parsed_docs)//doc_partitions\n",
    "            for i in range(doc_partitions):\n",
    "                batch_file = re.sub(r'\\.npy', '', file)+str(i)+'.npy'\n",
    "                start_idx = i*batch_size\n",
    "                batch = variable[start_idx: start_idx+batch_size]\n",
    "                np_var = np.array(batch)\n",
    "                file_path = os.path.join(MODEL_COMPARISON_DIR,batch_file)\n",
    "                print('\\tSaving to:', file_path)\n",
    "                np.save(file_path, np_var)\n",
    "        else:\n",
    "            np_var = np.array(variable)\n",
    "            file_path = os.path.join(MODEL_COMPARISON_DIR,file)\n",
    "            print('\\tSaving to:', file_path)\n",
    "            np.save(file_path, np_var)\n",
    "            \n",
    "            \n",
    "def process_docs(docs, methods, compute_comparison_info=True):\n",
    "    # Initialize SpaCy model\n",
    "    model = spacy.load('en_core_web_sm')\n",
    "    model.add_pipe(my_retokenizer, first=True)    \n",
    "\n",
    "    # Split docs to sentences using gensim. Attach method name to each sentence for later reference\n",
    "    total_docs = [(method,sent) for method,doc in zip(methods,sent_toks_gensim(docs)) for sent in doc]\n",
    "    \n",
    "    # Separate methods and (sentence level) docs\n",
    "    total_docs_transpose = list(zip(*total_docs))\n",
    "    methods = total_docs_transpose[0]\n",
    "    docs = total_docs_transpose[1]\n",
    "\n",
    "    ##### THIS IS THE LOOP FOR PROCESSING DOCUMENTS #####\n",
    "    print(f'Documents to process: {len(docs):,}')\n",
    "    nltk_tok, spacy_tok, nltk_pos, spacy_pos, nltk_ner, spacy_ner, parsed_docs =[],[],[],[],[],[],[]\n",
    "    for i, doc in enumerate(model.pipe(docs, disable=[\"parser\"])):\n",
    "        if i %5000 ==0:\n",
    "            print(f'Processed {i:,}')\n",
    "        if compute_comparison_info:\n",
    "            nltk_sent_toks = nltk_tokenize(doc.text)\n",
    "            nltk_tok.append(nltk_sent_toks)\n",
    "            nltk_sent_pos_tags = pos_tag(nltk_sent_toks)\n",
    "            nltk_pos.append(nltk_sent_pos_tags)\n",
    "            nltk_sent_ne = [(' '.join([l[0] for l in ne.leaves()]),ne.label()) for ne in ne_chunk(nltk_sent_pos_tags)\n",
    "                            if type(ne) == nltk.tree.Tree]\n",
    "            nltk_ner.append(nltk_sent_ne)\n",
    "\n",
    "            spacy_tok.append([tok.text for tok in doc])\n",
    "            spacy_pos.append([(tok.text,tok.pos_) for tok in doc])\n",
    "            spacy_ner.append([(ent.text, ent.label_) for ent in doc.ents])\n",
    "            #doc.set_extension('method_label', default=methods[i], force=True)\n",
    "        parsed_docs.append((methods[i], doc))\n",
    "        \n",
    "    if compute_comparison_info:\n",
    "        tok_diffs = [(nltk_tok_sent,spacy_tok_sent) for nltk_tok_sent, spacy_tok_sent in zip(nltk_tok,spacy_tok)\n",
    "                                          if len(nltk_tok_sent) != len(spacy_tok_sent)]\n",
    "        tok_info = (nltk_tok, spacy_tok, tok_diffs)\n",
    "        pos_info = (nltk_pos,spacy_pos)\n",
    "        ner_info = (nltk_ner, spacy_ner)\n",
    "        return tok_info, pos_info, ner_info, parsed_docs\n",
    "    \n",
    "\n",
    "def model_comparison_info(df):\n",
    "    '''\n",
    "    This functions gets the token, pos tags, and named entities for all docs using both nltk and Spacy methods.\n",
    "    This is expensive to compute so the results are stored and later uploaded in leiu of computation.\n",
    "    '''\n",
    "    comparison_info = load_comparison_info()\n",
    "    docs = df['docs']\n",
    "    methods = df['methods']\n",
    "    if comparison_info is not None:\n",
    "        #parsed_docs = process_docs(docs, methods, compute_comparison_info=True)\n",
    "        return (comparison_info)\n",
    "\n",
    "    tok_info, pos_info, ner_info,parsed_docs = process_docs(docs, methods, compute_comparison_info=True)\n",
    "    save_comparison_info(tok_info, pos_info, ner_info, parsed_docs)\n",
    "    return tok_info,pos_info, ner_info, parsed_docs\n",
    "\n",
    "def show_tok_diffs(nltk_tok, spacy_tok, diff_docs):\n",
    "    print('\\nTokenization differences')\n",
    "    nltk_tot_tokens = sum([len(sent) for sent in nltk_tok])\n",
    "    spacy_tot_tokens = sum([len(sent) for sent in spacy_tok])\n",
    "    nltk_avg_tokens_tot = nltk_tot_tokens/len(nltk_tok)\n",
    "    spacy_avg_tokens_tot = spacy_tot_tokens/len(spacy_tok)\n",
    "    nltk_tot_toks_of_diff = sum([len(y) for y in [x for x in zip(*diff_docs)][0]])\n",
    "    spacy_tot_toks_of_diff = sum([len(y) for y in [x for x in zip(*diff_docs)][1]])\n",
    "    nltk_avg_tokens_diff = nltk_tot_toks_of_diff/len(diff_docs)\n",
    "    spacy_avg_tokens_diff = spacy_tot_toks_of_diff/len(diff_docs)\n",
    "    print(f'Number of documents with different tokenization: {len(diff_docs)} ', end='')\n",
    "    print(f'Fraction of total: {len(diff_docs)/ len(nltk_tok):.2%}')\n",
    "    print(f\"{'NLTK':>65}{'SpaCy':>20}\")\n",
    "    print(f\"{'Number of tokens:':>45}{nltk_tot_tokens:>20,}{spacy_tot_tokens:>20,}\")\n",
    "    print(f\"{'Avg. tokens per sentence:':>45}{nltk_avg_tokens_tot:>20,.3f}{spacy_avg_tokens_tot:>20,.3f}\")\n",
    "    print(f\"{'Number of tokens of differences:':>45}{nltk_tot_toks_of_diff:>20,}{spacy_tot_toks_of_diff:>20,}\")\n",
    "    print(f\"{'Avg. #tokens of differences:':>45}{nltk_avg_tokens_diff:>20.3f}{spacy_avg_tokens_diff:>20.3f}\")\n",
    "    print('\\nExamples of differences:')\n",
    "    pp = pprint.PrettyPrinter(indent=2, width=110)\n",
    "    printed = 0\n",
    "    for i, (nltk_toks, spacy_toks) in enumerate(diff_docs):\n",
    "          if len(nltk_toks) > 10 or len(spacy_toks) > 10:\n",
    "              continue\n",
    "          if printed >= 3:\n",
    "              break\n",
    "          print('\\nNLTK:')\n",
    "          pp.pprint(nltk_toks)\n",
    "          print('SpaCy:')\n",
    "          pp.pprint(spacy_toks)\n",
    "          printed+=1\n",
    "    print('\\n')      \n",
    "    \n",
    "def show_example_diffs(info, title_string, tok_limit):\n",
    "    nltk_examples, spacy_examples = info[0], info[1]\n",
    "    pp = pprint.PrettyPrinter(indent=2, width=180)\n",
    "    printed = 0\n",
    "    print(title_string)\n",
    "    for i, (nltk, spacy) in enumerate(zip(nltk_examples, spacy_examples)):\n",
    "          if len(nltk) > tok_limit or len(spacy) > tok_limit:\n",
    "              continue\n",
    "          if printed >= 3:\n",
    "              break\n",
    "          print('\\nNLTK:')\n",
    "          pp.pprint(nltk)\n",
    "          print('SpaCy:')\n",
    "          pp.pprint(spacy)\n",
    "          printed+=1\n",
    "    print('\\n')\n",
    "    \n",
    "\n"
   ]
  },
  {
   "cell_type": "markdown",
   "metadata": {},
   "source": [
    "### Run Comparisons"
   ]
  },
  {
   "cell_type": "code",
   "execution_count": 283,
   "metadata": {},
   "outputs": [
    {
     "name": "stdout",
     "output_type": "stream",
     "text": [
      "Accessing data from: proj_data\\android_semi_cleaned.csv\n",
      "Total number of documents: 29,402\n",
      "Number of differences: 553\n",
      "                                                             NLTK              Gensim\n",
      "                          Number of senteces:              73,109              73,154\n",
      "                 Avg. #tokens of differences:              19.443              20.671\n",
      "       Pct. documents with the most senteces:              47.20%              52.80%\n",
      "\n",
      "EXAMPLES OF SENTENCE TOKENIZATION DIFFERENCES:\n",
      "\n",
      "ORIGINAL: Called by a device admin to set the short support message. This will be displayed to the user in settings screens where funtionality has been disabled by the admin. The message should be limited to a short statement such as \"This setting is disabled by your administrator. Contact someone@example.com for support.\" If the message is longer than 200 characters it may be truncated. If the short support message needs to be localized it is the responsibility of the DeviceAdminReceiver to listen to the Intent#ACTION_LOCALE_CHANGED broadcast and set a new version of this string accordingly.\n",
      "NLTK: Contact someone@example.com for support\n",
      "GENSIM: Contact someone@example.com for support.\" If the message is longer than 200 characters it may be truncated\n",
      "\n",
      "ORIGINAL: This method was deprecated in API level 21. use BluetoothLeScanner#startScan(List ScanSettings ScanCallback) instead. Starts a scan for Bluetooth LE devices looking for devices that advertise given services. Devices which advertise all specified services are reported using the LeScanCallback#onLeScan callback. Requires Manifest.permission.BLUETOOTH_ADMIN\n",
      "NLTK: This method was deprecated in API level 21. use BluetoothLeScanner#startScan(List ScanSettings ScanCallback) instead\n",
      "GENSIM: This method was deprecated in API level 21\n",
      "\n",
      "ORIGINAL: This method was deprecated in API level 21. use BluetoothLeScanner#startScan(List ScanSettings ScanCallback) instead. Starts a scan for Bluetooth LE devices. Results of the scan are reported using the LeScanCallback#onLeScan callback. Requires Manifest.permission.BLUETOOTH_ADMIN\n",
      "NLTK: This method was deprecated in API level 21. use BluetoothLeScanner#startScan(List ScanSettings ScanCallback) instead\n",
      "GENSIM: This method was deprecated in API level 21\n",
      "\n",
      "Documents to process: 73,154\n",
      "Processed 0\n",
      "Processed 5,000\n",
      "Processed 10,000\n",
      "Processed 15,000\n",
      "Processed 20,000\n",
      "Processed 25,000\n",
      "Processed 30,000\n",
      "Processed 35,000\n",
      "Processed 40,000\n",
      "Processed 45,000\n",
      "Processed 50,000\n",
      "Processed 55,000\n",
      "Processed 60,000\n",
      "Processed 65,000\n",
      "Processed 70,000\n",
      "Saving pre-computed token-level info:\n",
      "\tSaving to: model_comparisons\\nltk_tok_by_sent.npy\n",
      "\tSaving to: model_comparisons\\spacy_tok_by_sent.npy\n",
      "\tSaving to: model_comparisons\\tok_dif.npy\n",
      "\tSaving to: model_comparisons\\nltk_pos_by_sent.npy\n",
      "\tSaving to: model_comparisons\\spacy_pos_by_sent.npy\n",
      "\tSaving to: model_comparisons\\nltk_ner.npy\n",
      "\tSaving to: model_comparisons\\spacy_ner.npy\n",
      "\tSaving to: model_comparisons\\parsed_docs0.npy\n",
      "\tSaving to: model_comparisons\\parsed_docs1.npy\n",
      "\tSaving to: model_comparisons\\parsed_docs2.npy\n",
      "\tSaving to: model_comparisons\\parsed_docs3.npy\n",
      "\tSaving to: model_comparisons\\parsed_docs4.npy\n",
      "\tSaving to: model_comparisons\\parsed_docs5.npy\n",
      "\tSaving to: model_comparisons\\parsed_docs6.npy\n",
      "\tSaving to: model_comparisons\\parsed_docs7.npy\n",
      "\tSaving to: model_comparisons\\parsed_docs8.npy\n",
      "\tSaving to: model_comparisons\\parsed_docs9.npy\n",
      "\tSaving to: model_comparisons\\parsed_docs10.npy\n",
      "\tSaving to: model_comparisons\\parsed_docs11.npy\n",
      "\tSaving to: model_comparisons\\parsed_docs12.npy\n",
      "\tSaving to: model_comparisons\\parsed_docs13.npy\n",
      "\tSaving to: model_comparisons\\parsed_docs14.npy\n",
      "\n",
      "Tokenization differences\n",
      "Number of documents with different tokenization: 18245 Fraction of total: 24.94%\n",
      "                                                             NLTK               SpaCy\n",
      "                            Number of tokens:           1,191,458           1,166,787\n",
      "                    Avg. tokens per sentence:              16.287              15.950\n",
      "             Number of tokens of differences:             400,218             375,547\n",
      "                 Avg. #tokens of differences:              21.936              20.584\n",
      "\n",
      "Examples of differences:\n",
      "\n",
      "NLTK:\n",
      "['Can', 'be', 'modified', 'in-place']\n",
      "SpaCy:\n",
      "['Can', 'be', 'modified', 'in', '-', 'place']\n",
      "\n",
      "NLTK:\n",
      "['Returns', 'the', 'current', 'setStructuredData', '(', 'String', ')']\n",
      "SpaCy:\n",
      "['Returns', 'the', 'current', 'setStructuredData(String)']\n",
      "\n",
      "NLTK:\n",
      "['Return', 'a', 'Bundle', 'containing', 'optional', 'vendor-specific', 'extension', 'information']\n",
      "SpaCy:\n",
      "['Return', 'a', 'Bundle', 'containing', 'optional', 'vendor', '-', 'specific', 'extension', 'information']\n",
      "\n",
      "\n",
      "EXAMPLES OF DIFFERENCES IN POS TAGGING\n",
      "\n",
      "NLTK:\n",
      "[('Can', 'MD'), ('be', 'VB'), ('modified', 'VBN'), ('in-place', 'NN')]\n",
      "SpaCy:\n",
      "[('Can', 'VERB'), ('be', 'AUX'), ('modified', 'VERB'), ('in', 'ADP'), ('-', 'PUNCT'), ('place', 'NOUN')]\n",
      "\n",
      "NLTK:\n",
      "[('Gets', 'VBZ'), ('the', 'DT'), ('value', 'NN'), ('of', 'IN'), ('this', 'DT'), ('view', 'NN')]\n",
      "SpaCy:\n",
      "[('Gets', 'VERB'), ('the', 'DET'), ('value', 'NOUN'), ('of', 'ADP'), ('this', 'DET'), ('view', 'NOUN')]\n",
      "\n",
      "NLTK:\n",
      "[('See', 'VB'), ('ViewStructure.setId', 'NNP'), ('for', 'IN'), ('more', 'JJR'), ('information', 'NN')]\n",
      "SpaCy:\n",
      "[('See', 'VERB'), ('ViewStructure.setId', 'PROPN'), ('for', 'ADP'), ('more', 'ADJ'), ('information', 'NOUN')]\n",
      "\n",
      "\n",
      "EXAMPLES OF DIFFERENCES IN POS TAGGING(MT_OR_CL IS METHOD OR CLASS)\n",
      "\n",
      "NLTK:\n",
      "[('Parcelable', 'ORGANIZATION')]\n",
      "SpaCy:\n",
      "[('Parcelable', 'ORG')]\n",
      "\n",
      "NLTK:\n",
      "[('writeToParcel', 'ORGANIZATION'), ('CONTENTS_FILE_DESCRIPTOR', 'ORGANIZATION')]\n",
      "SpaCy:\n",
      "[('CONTENTS_FILE_DESCRIPTOR', 'MT_OR_CL')]\n",
      "\n",
      "NLTK:\n",
      "[('setClipData', 'ORGANIZATION'), ('ClipData', 'ORGANIZATION')]\n",
      "SpaCy:\n",
      "[('setClipData(ClipData)', 'MT_OR_CL')]\n",
      "\n",
      "\n"
     ]
    }
   ],
   "source": [
    "df, docs_by_method = get_docs(source_path)\n",
    "compare_sent_tokenization(df['docs'].to_list())\n",
    "tok_info,pos_info, ner_info, parsed_docs = model_comparison_info(df)\n",
    "nltk_toks, spacy_toks, tok_diffs = tok_info\n",
    "show_tok_diffs(nltk_toks, spacy_toks, tok_diffs)\n",
    "show_example_diffs(pos_info,'EXAMPLES OF DIFFERENCES IN POS TAGGING', 6)\n",
    "show_example_diffs(ner_info,'EXAMPLES OF DIFFERENCES IN POS TAGGING(MT_OR_CL IS METHOD OR CLASS)',6)\n"
   ]
  },
  {
   "cell_type": "markdown",
   "metadata": {},
   "source": [
    "### Exploration of dataset properties using SpaCy \n",
    "For this section we will explore the differences between the different subset in our data. As a reminder the sets are (from largest to smallest): the full set of unannotated data, the annotated data, and the data that positively map to privacy policy terms. <br><br>\n",
    "[Overview](#Overview)\n"
   ]
  },
  {
   "cell_type": "code",
   "execution_count": 305,
   "metadata": {},
   "outputs": [],
   "source": [
    "\n",
    "\n",
    "def doc_info(docs):\n",
    "    '''\n",
    "    Returns the parsed document, the token counter, POS tag counter,and the POS tag counter by word \n",
    "    '''\n",
    "#     nlp = spacy.load(\"en_core_web_sm\", disable=[\"parser\", 'ner'])\n",
    "#     nlp.add_pipe(my_retokenizer, first=True)\n",
    "    tok_cnt = Counter()\n",
    "    pos_cnt = Counter()\n",
    "    pos_byword_cnt = {}\n",
    "    parsed_docs = []\n",
    "    for method, doc in docs:\n",
    "        #doc = tup[1]\n",
    "        #parsed_docs.append((tup[0], doc))\n",
    "        for i, tok in enumerate(doc):\n",
    "            tok_cnt[tok.text] += 1\n",
    "            pos_cnt[tok.pos_] += 1\n",
    "            if tok.pos_ in pos_byword_cnt:\n",
    "                pos_byword_cnt[tok.pos_][tok.text] +=1\n",
    "            else:\n",
    "                pos_byword_cnt[tok.pos_] = Counter()\n",
    "                pos_byword_cnt[tok.pos_][tok.text] += 1\n",
    "                \n",
    "    return tok_cnt, pos_cnt, pos_byword_cnt         \n",
    "\n",
    "\n",
    "def display_info(parsed_docs, method_documents,tok_cnt, pos_cnt, pos_byword_cnt, classes=None):\n",
    "    unique_sents = Counter()\n",
    "    unique_docs = []\n",
    "    \n",
    "    for method,doc in parsed_docs:\n",
    "        if doc.text not in unique_sents:\n",
    "            unique_docs.append((method,doc))\n",
    "        unique_sents[doc.text] +=1   \n",
    "   \n",
    "    if classes:\n",
    "        print('\\t>-total number of classes:', len(set(classes)), '<br>')\n",
    "        print('\\t -total number of methods:', len(method_documents.keys()), '<br>')\n",
    "    else:\n",
    "        print('\\t>-total number of methods:', len(method_documents.keys()), '<br>')\n",
    "    print('\\t -total records after transform:', len(parsed_docs), '<br>')\n",
    "    print('\\t -number of unique records after transform:', len(unique_sents), '<br>')\n",
    "    print('\\t -method with most sentences:', max([(key,len(method_documents[key])) for key in method_documents]\n",
    "                                             , key=lambda x: x[1]), '<br>')\n",
    "    print('\\t -method with most tokens:', max([(method,len(doc)) for method,doc in unique_docs]\n",
    "                                             , key=lambda x: x[1]), '<br>')\n",
    "    print('\\t -total number of tokens:', sum([tok_cnt[key] for key in tok_cnt.keys()]), '<br>')\n",
    "    print(\"\\t -num unique tokens:\", len(tok_cnt.keys()), '<br>')\n",
    "    print('\\t -most common tokens (with 5 or more chars):'\n",
    "          ,[tup for tup in tok_cnt.most_common() if len(tup[0])>4][:3], '<br>')\n",
    "    most_freq_pos = pos_cnt.most_common(1)[0][0]\n",
    "    print('\\t -most frequent POS tag:', most_freq_pos, '<br>')\n",
    "    print('\\t -most common words in that tag:', pos_byword_cnt[most_freq_pos].most_common(1)[0], '<br>')\n",
    "    print('\\t -most frequent proper noun:', pos_byword_cnt['PROPN'].most_common(1)[0], '<br>')\n",
    "    method_and_class_toks = [ent.text for _,p_doc in parsed_docs for ent in p_doc.ents \n",
    "                             if ent.label_ == 'MT_OR_CL']\n",
    "    print('\\t -number of unique domain-specific named entities:', len(method_and_class_toks), '<br>')\n",
    "    print('\\t -number of unique domain-specific named entities:', len(set(method_and_class_toks)), '<br>')\n",
    "    print('\\t -most frequent domain-specific named entity:'\n",
    "          , Counter(method_and_class_toks).most_common()[0], '<br>')\n",
    "    print()\n",
    "\n",
    "def get_subset(parsed_docs, path, docs_by_method):\n",
    "    subset_methods,subset_info, _ = access_data(path)\n",
    "    #mapping_docs = list(zip(methods,info))\n",
    "    classes = list(set(subset_info))\n",
    "    #mapped_methods = [mapping_doc[0] for mapping_doc in mapping_docs]\n",
    "    #info = [mapping_doc[1] for mapping_doc in mapping_docs]\n",
    "    sub_meth_dict = {key:None for key in subset_methods}\n",
    "    docs = [(method, doc) for method,doc in parsed_docs if method in sub_meth_dict]\n",
    "    \n",
    "    docs_by_method = {key:docs_by_method[key] for key in docs_by_method.keys() if key in subset_methods}\n",
    "    return docs, docs_by_method, classes\n",
    "    \n",
    "    \n",
    "def process_doc_and_display_attrs(parsed_docs, mappings_path=None, docs_by_method=None, annotated_path=None):\n",
    "    docs = parsed_docs\n",
    "    classes = None\n",
    "    if annotated_path:\n",
    "        \n",
    "        docs, docs_by_method, _ = get_subset(docs, annotated_path, docs_by_method)\n",
    "    if mappings_path:\n",
    "        docs, docs_by_method, classes = get_subset(docs, mappings_path, docs_by_method)\n",
    "        \n",
    "    tok_cnt, pos_cnt, pos_byword_cnt = doc_info(docs) \n",
    "    if mappings_path == annotated_path ==None:\n",
    "        print('INFO FOR',source_path)\n",
    "    elif mappings_path ==None:\n",
    "        print('INFO FOR',annotated_path)\n",
    "    else:\n",
    "        print('INFO FOR',mappings_path)\n",
    "    display_info(docs, docs_by_method, tok_cnt, pos_cnt, pos_byword_cnt, classes=classes)\n",
    "    return docs, tok_cnt"
   ]
  },
  {
   "cell_type": "markdown",
   "metadata": {},
   "source": [
    "#### Data visualization functions"
   ]
  },
  {
   "cell_type": "code",
   "execution_count": 309,
   "metadata": {},
   "outputs": [],
   "source": [
    "def autolabel(rects):\n",
    "    \"\"\"Attach a text label above each bar in *rects*, displaying its height.\"\"\"\n",
    "    for rect in rects:\n",
    "        height = rect.get_height()\n",
    "        axs.annotate('{}'.format(height),\n",
    "                    xy=(rect.get_x() + rect.get_width() / 2, height),\n",
    "                    xytext=(0, 3),  # 3 points vertical offset\n",
    "                    textcoords=\"offset points\",\n",
    "                    ha='center', va='bottom')\n",
    "        \n",
    "        \n",
    "def make_stacked_plot(ax_list, dataset, titles, min_word_len=0, num_words=10):\n",
    "    for i in range(3):\n",
    "        common_words = [tup for tup in dataset[i].most_common() if len(tup[0]) >= min_word_len]\n",
    "        xs = np.arange(num_words)\n",
    "\n",
    "        labels = [tup[0] for tup in common_words[:num_words]]\n",
    "        ys = [tup[1] for tup in common_words[:num_words]]\n",
    "        ax_list[i].bar(xs, ys,width )\n",
    "        ax_list[i].set_xticks(xs)\n",
    "        ax_list[i].set_title(titles[i], fontsize=20)\n",
    "        ax_list[i].set_xticklabels(labels, fontdict={'fontsize':13}, rotation=30, ha=\"right\")\n",
    "\n",
    "\n",
    "def first_plot():\n",
    "    xs = np.arange(3)+1\n",
    "    width = .25\n",
    "    dataset = [ unann_parsed_docs, ann_parsed_docs,mapped_parsed_docs]\n",
    "    dataset_names = ['unannotated methods', 'annotated methods', 'mapped methods only']\n",
    "\n",
    "    fig, axs = plt.subplots(figsize=(8,8))\n",
    "    ys = [len(set([doc[0] for doc in data])) for data in dataset]\n",
    "    rects1 = axs.bar(xs+width/2,ys, width, label='Original')\n",
    "    ys = [len( data) for data in dataset]\n",
    "    rects2 = axs.bar(xs-width/2 ,ys, width, label='Transformed')\n",
    "    axs.set_xticks(xs)\n",
    "\n",
    "    autolabel(rects1)\n",
    "    autolabel(rects2)\n",
    "    axs.legend()\n",
    "    axs.set_title('Effect of transformation on records', fontsize=20)\n",
    "    axs.set_xticklabels(dataset_names, fontdict={'fontsize':12})\n",
    "    plt.show()\n",
    "    \n",
    "    \n",
    "def second_plot():    \n",
    "\n",
    "\n",
    "    width = .25\n",
    "    num_words = 10\n",
    "    min_word_len = 5\n",
    "\n",
    "    dataset = [unann_tok_cnt,ann_tok_cnt,mapped_tok_cnt]\n",
    "    dataset_names = ['unannotated methods', 'annotated methods', 'mapped methods only']\n",
    "    title_template = 'Most common words longer than '+str(min_word_len)+' for '\n",
    "    titles = [title_template+dataset_names[i] for i in range(len(dataset))]\n",
    "\n",
    "    fig, ax_list = plt.subplots(3,1,figsize=(10,13))\n",
    "    make_stacked_plot(ax_list, dataset, titles, min_word_len, num_words)\n",
    "\n",
    "\n",
    "    fig.tight_layout()\n",
    "    plt.show()\n",
    "    \n",
    "def third_plot():\n",
    "    plt.close()\n",
    "    width = .25\n",
    "    num_words = 10\n",
    "\n",
    "    dataset_ent = [ unann_parsed_docs, ann_parsed_docs,mapped_parsed_docs]\n",
    "    dataset_names = ['unannotated methods', 'annotated methods', 'mapped methods only']\n",
    "    title_template = 'Most common domain-specific named entities for '\n",
    "    titles = [title_template+dataset_names[i] for i in range(len(dataset))]\n",
    "    ent_counters = [Counter() for i in range(len(dataset_ent))]\n",
    "\n",
    "\n",
    "\n",
    "    for i in range(len(ent_counters)):\n",
    "        for j in range(len(dataset_ent[i])):\n",
    "            for ent in dataset_ent[i][j][1].ents:\n",
    "                ent_counters[i][ent.text] +=1\n",
    "\n",
    "\n",
    "    fig, ax_list2 = plt.subplots(3,1,figsize=(10,15))\n",
    "    make_stacked_plot(ax_list2, ent_counters, titles, min_word_len=0, num_words=num_words)\n",
    "\n",
    "\n",
    "    fig.tight_layout()\n",
    "    plt.show()\n",
    "    \n",
    "def fourth_plot():\n",
    "    dataset = [ unann_parsed_docs, ann_parsed_docs,mapped_parsed_docs]\n",
    "\n",
    "    dataset_names = ['unannotated methods', 'annotated methods', 'mapped methods only']\n",
    "    title_template = 'Number of unique tokens by tag for '\n",
    "    titles = [title_template+dataset_names[i] for i in range(len(dataset))]\n",
    "    \n",
    "#     dataset_ent = [ unann_parsed_docs, ann_parsed_docs,mapped_parsed_docs]\n",
    "#     dataset_names = ['unannotated methods', 'annotated methods', 'mapped methods only']\n",
    "#     title_template = 'Most common domain-specific named entities for '\n",
    "#     titles = [title_template+dataset_names[i] for i in range(len(dataset))]\n",
    "    ent_counters = [Counter() for i in range(len(dataset))]\n",
    "    total_ents = [len(set(ent_counters[i].elements())) for i in range(len(ent_counters))]\n",
    "    pos_counters = [{} for i in range(len(dataset))]\n",
    "\n",
    "    for i in range(len(pos_counters)):\n",
    "        for j in range(len(dataset[i])):\n",
    "            for tok in dataset[i][j][1]:\n",
    "                if tok.pos_ in pos_counters[i]:\n",
    "                    pos_counters[i][tok.pos_][tok.text] +=1\n",
    "\n",
    "                else:\n",
    "                    pos_counters[i][tok.pos_] = Counter()\n",
    "                    pos_counters[i][tok.pos_][tok.text] +=1\n",
    "\n",
    "    fig, ax_list = plt.subplots(3,1,figsize=(10,15))\n",
    "\n",
    "    for i in range(3):\n",
    "\n",
    "\n",
    "        d = [('DS ENTITY',total_ents[i])]+[(key,len(pos_counters[i][key].keys())) for key in pos_counters[i]]\n",
    "        d = sorted(d, key=lambda x: x[1], reverse=True)\n",
    "        labels = [item[0] for item in d]\n",
    "        ys = [item[1] for item in d]\n",
    "        xs = np.arange(len(labels))\n",
    "        ax_list[i].bar(xs, ys,width )\n",
    "        ax_list[i].set_xticks(xs)\n",
    "        ax_list[i].set_title(titles[i], fontsize=20)\n",
    "        ax_list[i].set_xticklabels(labels, fontdict={'fontsize':13}, rotation=30, ha=\"right\")\n",
    "\n",
    "    fig.tight_layout()\n",
    "    plt.show()  "
   ]
  },
  {
   "cell_type": "markdown",
   "metadata": {},
   "source": [
    "### Run Exploration of dataset properties using SpaCy \n",
    "[Overview](#Overview)"
   ]
  },
  {
   "cell_type": "code",
   "execution_count": 337,
   "metadata": {},
   "outputs": [
    {
     "name": "stdout",
     "output_type": "stream",
     "text": [
      "INFO FOR proj_data\\android_semi_cleaned.csv\n",
      "\t>-total number of methods: 25954 <br>\n",
      "\t -total records after transform: 73154 <br>\n",
      "\t -number of unique records after transform: 45199 <br>\n",
      "\t -method with most sentences: ('android.junit.framework.Assert.assertEquals', 19) <br>\n",
      "\t -method with most tokens: ('android.java.util.logging.SimpleFormatter.format', 171) <br>\n",
      "\t -total number of tokens: 1166787 <br>\n",
      "\t -num unique tokens: 24996 <br>\n",
      "\t -most common tokens (with 5 or more chars): [('method', 13779), ('object', 7005), ('value', 6571)] <br>\n",
      "\t -most frequent POS tag: NOUN <br>\n",
      "\t -most common words in that tag: ('method', 13702) <br>\n",
      "\t -most frequent proper noun: ('API', 1234) <br>\n",
      "\t -number of unique domain-specific named entities: 25078 <br>\n",
      "\t -number of unique domain-specific named entities: 6649 <br>\n",
      "\t -most frequent domain-specific named entity: ('hashCode', 785) <br>\n",
      "\n",
      "Accessing data from: proj_data\\android_cleaned_ANNOTATED_ONLY.csv\n",
      "INFO FOR proj_data\\android_cleaned_ANNOTATED_ONLY.csv\n",
      "\t>-total number of methods: 2989 <br>\n",
      "\t -total records after transform: 9590 <br>\n",
      "\t -number of unique records after transform: 7787 <br>\n",
      "\t -method with most sentences: ('android.graphics.Bitmap.createBitmap', 10) <br>\n",
      "\t -method with most tokens: ('android.text.format.DateUtils.formatDateRange', 128) <br>\n",
      "\t -total number of tokens: 145394 <br>\n",
      "\t -num unique tokens: 8167 <br>\n",
      "\t -most common tokens (with 5 or more chars): [('method', 1179), ('value', 556), ('should', 533)] <br>\n",
      "\t -most frequent POS tag: NOUN <br>\n",
      "\t -most common words in that tag: ('method', 1177) <br>\n",
      "\t -most frequent proper noun: ('API', 312) <br>\n",
      "\t -number of unique domain-specific named entities: 3442 <br>\n",
      "\t -number of unique domain-specific named entities: 1459 <br>\n",
      "\t -most frequent domain-specific named entity: ('WebView', 104) <br>\n",
      "\n",
      "Accessing data from: proj_data\\android_cleaned_ANNOTATED_ONLY.csv\n",
      "Accessing data from: proj_data\\mappings_cleaned.csv\n",
      "INFO FOR proj_data\\mappings_cleaned.csv\n",
      "\t>-total number of classes: 76 <br>\n",
      "\t -total number of methods: 104 <br>\n",
      "\t -total records after transform: 392 <br>\n",
      "\t -number of unique records after transform: 317 <br>\n",
      "\t -method with most sentences: ('android.hardware.SensorManager.registerListener', 6) <br>\n",
      "\t -method with most tokens: ('android.location.LocationManager.requestLocationUpdates', 50) <br>\n",
      "\t -total number of tokens: 6009 <br>\n",
      "\t -num unique tokens: 1139 <br>\n",
      "\t -most common tokens (with 5 or more chars): [('device', 53), ('location', 51), ('method', 50)] <br>\n",
      "\t -most frequent POS tag: NOUN <br>\n",
      "\t -most common words in that tag: ('device', 53) <br>\n",
      "\t -most frequent proper noun: ('API', 25) <br>\n",
      "\t -number of unique domain-specific named entities: 163 <br>\n",
      "\t -number of unique domain-specific named entities: 73 <br>\n",
      "\t -most frequent domain-specific named entity: ('SensorEventListener', 12) <br>\n",
      "\n"
     ]
    },
    {
     "data": {
      "image/png": "[encoded data removed]",
      "text/plain": [
       "<Figure size 576x576 with 1 Axes>"
      ]
     },
     "metadata": {
      "needs_background": "light"
     },
     "output_type": "display_data"
    },
    {
     "data": {
      "image/png": "[encoded data removed]",
      "text/plain": [
       "<Figure size 720x936 with 3 Axes>"
      ]
     },
     "metadata": {
      "needs_background": "light"
     },
     "output_type": "display_data"
    },
    {
     "data": {
      "image/png": "[encoded data removed]",
      "text/plain": [
       "<Figure size 720x1080 with 3 Axes>"
      ]
     },
     "metadata": {
      "needs_background": "light"
     },
     "output_type": "display_data"
    },
    {
     "data": {
      "image/png": "[encoded data removed]",
      "text/plain": [
       "<Figure size 720x1080 with 3 Axes>"
      ]
     },
     "metadata": {
      "needs_background": "light"
     },
     "output_type": "display_data"
    }
   ],
   "source": [
    "# print(docs_by_method)\n",
    "\n",
    "unann_parsed_docs, unann_tok_cnt = process_doc_and_display_attrs(parsed_docs\n",
    "                                                                 , docs_by_method=docs_by_method)\n",
    "ann_parsed_docs, ann_tok_cnt = process_doc_and_display_attrs(parsed_docs\n",
    "                                                            , annotated_path=annotated_path\n",
    "                                                            , docs_by_method=docs_by_method)\n",
    "mapped_parsed_docs, mapped_tok_cnt = process_doc_and_display_attrs(parsed_docs\n",
    "                                                                   , annotated_path=annotated_path\n",
    "                                                                   , mappings_path=mappings_path\n",
    "                                                                   , docs_by_method=docs_by_method)\n",
    "first_plot()\n",
    "second_plot()\n",
    "third_plot()\n",
    "fourth_plot()"
   ]
  },
  {
   "cell_type": "markdown",
   "metadata": {
    "deletable": false,
    "editable": false,
    "nbgrader": {
     "cell_type": "markdown",
     "checksum": "fd744aac8dbd1e06bdf48a27c51b783a",
     "grade": false,
     "grade_id": "cell-01669f3b88a0d3c0",
     "locked": true,
     "points": 1.4,
     "schema_version": 3,
     "solution": false,
     "task": true
    }
   },
   "source": [
    "## Modeling"
   ]
  },
  {
   "cell_type": "markdown",
   "metadata": {},
   "source": [
    "Due to severeve class imbalance, a proper train, dev, test split is not possible. Instead, I will display the results of a k-fold crossvalidation run.<br><br>\n",
    "[Overview](#Overview)"
   ]
  },
  {
   "cell_type": "code",
   "execution_count": 339,
   "metadata": {},
   "outputs": [],
   "source": [
    "def make_mapped_only(mappings_path, docs, mapped_methods):   \n",
    "    mapping_docs, _ = access_data(mappings_path) \n",
    "    mapped_methods = [mapping_doc[0] for mapping_doc in mapping_docs]\n",
    "    classes = [mapping_doc[1] for mapping_doc in mapping_docs]\n",
    "    docs = [doc for doc in docs if doc[0] in mapped_methods]\n",
    "    doc_by_method = {key:doc_by_method[key] for key in doc_by_method.keys() if key in mapped_methods}\n",
    "    return docs, doc_by_method\n",
    "\n",
    "class record():\n",
    "    def __init__(self, method=None, text=None, tokens=None, label=None):\n",
    "        self.method = method\n",
    "        self.text = text\n",
    "        self.tokens = tokens\n",
    "        self.label = label\n",
    "        \n",
    "    def to_string(self):\n",
    "        return(self.text)\n",
    "    \n",
    "class my_records():\n",
    "    pass\n",
    "\n",
    "def convert_docs_to_records(docs):\n",
    "    records = []\n",
    "    for doc in docs:\n",
    "        records.append(record(method=doc[0], text=doc[1]))\n",
    "        #records.append(record(method=doc[0], text=doc[1], tokens=[tok.text for tok in doc[1]]))\n",
    "    return records\n",
    "\n",
    "def tokenize_and_clean_records(records):\n",
    "    wnl = WordNetLemmatizer()\n",
    "    ps = PorterStemmer()\n",
    "    for record in records:\n",
    "#         print(record.text)\n",
    "#         print(type(record.text))\n",
    "        toks = word_tokenize(record.text)\n",
    "        new_toks = []\n",
    "        for tok in toks:\n",
    "            new_tok = wnl.lemmatize(tok)\n",
    "            if new_tok == tok:\n",
    "                new_tok = ps.stem(tok)\n",
    "            new_toks.append(new_tok)\n",
    "        record.tokens = new_toks\n",
    "        record.text = ' '.join(record.tokens)\n",
    "        \n",
    "        \n",
    "def records_to_document_matrix(records):\n",
    "    l = []\n",
    "    [l.append(str(record.text)) for record in records]\n",
    "    tf_idf = TfidfVectorizer(ngram_range = (1,2), max_df=.7, max_features=15000)\n",
    "    tf_idf.fit(l)\n",
    "    return tf_idf.transform(l), tf_idf\n",
    "\n",
    "def make_index_map(classes):\n",
    "    class2idx={}\n",
    "    for c in classes:\n",
    "        if c not in class2idx:\n",
    "            class2idx[c] = len(class2idx)\n",
    "    return class2idx\n",
    "\n",
    "def make_label(method, method2classes, class2idx):\n",
    "    num_classes = len(class2idx.keys())\n",
    "    label = [0]*num_classes\n",
    "    for c in method2classes[method]:\n",
    "        label[class2idx[c]]= 1\n",
    "    return label\n",
    "        \n",
    "def make_zero_label(num_classes):\n",
    "    return [0]*num_classes\n",
    "\n",
    "\n",
    "def create_labels(records, method2classes):\n",
    "    classes = list(set(v for values in method2classes.values() for v in values))\n",
    "    num_classes = len(classes)\n",
    "    mapped_methods = list(set(method2classes.keys()))\n",
    "    class2idx = make_index_map(classes)\n",
    "    labels = []\n",
    "    for record in records:\n",
    "        if record.method in mapped_methods:\n",
    "            label = make_label(record.method, method2classes, class2idx)\n",
    "        else:\n",
    "            label = make_zero_label(num_classes)\n",
    "        labels.append(label)\n",
    "        record.label = label\n",
    "    return np.array(labels), class2idx\n"
   ]
  },
  {
   "cell_type": "markdown",
   "metadata": {},
   "source": [
    "### Run Linear SVC\n",
    "\n",
    "[Overview](#Overview)"
   ]
  },
  {
   "cell_type": "code",
   "execution_count": 342,
   "metadata": {},
   "outputs": [
    {
     "name": "stdout",
     "output_type": "stream",
     "text": [
      "Accessing data from: proj_data\\android_cleaned_ANNOTATED_ONLY.csv\n",
      "Accessing data from: proj_data\\mappings_cleaned.csv\n",
      "4-fold results:\n",
      "RUN 1\n",
      "micro precision: 0.8137  micro precision: 0.3873  micro f1: 0.5239\n",
      "macro precision: 0.4984  macro precision: 0.2950  macro f1: 0.3411\n",
      "\n",
      "4-fold results:\n",
      "RUN 2\n",
      "micro precision: 0.8125  micro precision: 0.3840  micro f1: 0.5195\n",
      "macro precision: 0.4996  macro precision: 0.3187  macro f1: 0.3600\n",
      "\n",
      "4-fold results:\n",
      "RUN 3\n",
      "micro precision: 0.7932  micro precision: 0.3564  micro f1: 0.4878\n",
      "macro precision: 0.4555  macro precision: 0.2686  macro f1: 0.3141\n",
      "\n",
      "4-fold results:\n",
      "RUN 4\n",
      "micro precision: 0.8089  micro precision: 0.3574  micro f1: 0.4954\n",
      "macro precision: 0.4173  macro precision: 0.2410  macro f1: 0.2907\n",
      "\n",
      "Average of 4 4-fold runs\n",
      "micro precision: 0.8071  micro precision: 0.3713  micro f1: 0.5066\n",
      "macro precision: 0.4677  macro precision: 0.2808  macro f1: 0.3265\n"
     ]
    }
   ],
   "source": [
    "\n",
    "methods, docs,_ = access_data(annotated_path)\n",
    "annotated_docs = list(zip(methods,docs))\n",
    "annotated_records = convert_docs_to_records(annotated_docs)\n",
    "tokenize_and_clean_records(annotated_records)\n",
    "doc_matrix, tf_idf_vectorizor = records_to_document_matrix(annotated_records)\n",
    "a,b, method2classes = access_data(mappings_path)\n",
    "mapping_doc = list(zip(a,b))\n",
    "labels, class2idx = create_labels(annotated_records, method2classes)\n",
    "X_train, X_test, Y_train, Y_test = train_test_split(doc_matrix, labels, test_size=.3)\n",
    "\n",
    "lsvc = LinearSVC(max_iter=4000)\n",
    "num_runs=4\n",
    "folds = 4\n",
    "super_avgs = {'f1mac': [], 'precmac':[], 'recmac':[],'f1mic': [], 'precmic':[], 'recmic':[]}\n",
    "kf = KFold(n_splits=folds, shuffle=True)\n",
    "for m in range(num_runs):\n",
    "    avgs = {'f1mac': [], 'precmac':[], 'recmac':[],'f1mic': [], 'precmic':[], 'recmic':[]}\n",
    "    for i,(train_index, test_index) in enumerate(kf.split(doc_matrix)):\n",
    "\n",
    "        X_train, X_test = doc_matrix[train_index,:], doc_matrix[test_index,:]\n",
    "        Y_train, Y_test = labels[train_index,:], labels[test_index,:]\n",
    "\n",
    "        f1s = []\n",
    "        precisions = []\n",
    "        recalls = []\n",
    "        tot_preds = []\n",
    "        for c in class2idx:\n",
    "\n",
    "            if np.sum(Y_train[:,class2idx[c]]) == 0 or np.sum(Y_test[:,class2idx[c]])==0:\n",
    "            #    print('pass')\n",
    "                continue\n",
    "            lsvc.fit(X_train, Y_train[:,class2idx[c]])\n",
    "            pred = lsvc.predict(X_test)\n",
    "            tot_preds.append((pred, c, Y_test[:,class2idx[c]]))\n",
    "            scores = prfs(Y_test[:,class2idx[c]], pred)\n",
    "            precision, recall, f1, _ = scores\n",
    "            precisions.append(precision[1])\n",
    "            recalls.append(recall[1])\n",
    "            f1s.append(f1[1])\n",
    "        pred_complete= np.zeros((Y_test.shape[0], len(tot_preds)))\n",
    "        Y_test_no_zeros = np.zeros((Y_test.shape[0], len(tot_preds)))\n",
    "        for j, (pred, c, yt) in enumerate(tot_preds):\n",
    "            pred_complete[:,j] = pred\n",
    "            Y_test_no_zeros[:,j] = yt\n",
    "        macro_prec, macro_rec, macro_f1, _ = prfs(Y_test_no_zeros, pred_complete, average='macro')#,beta=2.)\n",
    "        micro_prec, micro_rec, micro_f1, _ = prfs(Y_test_no_zeros, pred_complete, average='micro')#,beta=2.)\n",
    "\n",
    "        avgs['precmac'].append(macro_prec)\n",
    "        avgs['recmac'].append(macro_rec)\n",
    "        avgs['f1mac'].append(macro_f1)\n",
    "        avgs['precmic'].append(micro_prec)\n",
    "        avgs['recmic'].append(micro_rec)\n",
    "        avgs['f1mic'].append(micro_f1)\n",
    "\n",
    "    print('4-fold results:')\n",
    "    print('RUN',m+1)\n",
    "    avgs2 = {key:sum(avgs[key])/len(avgs[key]) for key in avgs}\n",
    "    print('micro precision: %.4f  micro precision: %.4f  micro f1: %.4f'% (avgs2['precmic']\n",
    "                                                                           ,avgs2['recmic']\n",
    "                                                                           ,avgs2['f1mic']))  \n",
    "    print('macro precision: %.4f  macro precision: %.4f  macro f1: %.4f'% (avgs2['precmac']\n",
    "                                                                           ,avgs2['recmac']\n",
    "                                                                           ,avgs2['f1mac']))\n",
    "    print()\n",
    "    super_avgs['precmac'].append(avgs2['precmac'])\n",
    "    super_avgs['recmac'].append(avgs2['recmac'])\n",
    "    super_avgs['f1mac'].append(avgs2['f1mac'])\n",
    "    super_avgs['precmic'].append(avgs2['precmic'])\n",
    "    super_avgs['recmic'].append(avgs2['recmic'])\n",
    "    super_avgs['f1mic'].append(avgs2['f1mic'])\n",
    "print('Average of',num_runs,str(folds)+'-fold runs')\n",
    "avgs2 = {key:sum(super_avgs[key])/len(super_avgs[key]) for key in super_avgs}\n",
    "print('micro precision: %.4f  micro precision: %.4f  micro f1: %.4f'% (avgs2['precmic']\n",
    "                                                                       ,avgs2['recmic']\n",
    "                                                                       ,avgs2['f1mic']))  \n",
    "print('macro precision: %.4f  macro precision: %.4f  macro f1: %.4f'% (avgs2['precmac']\n",
    "                                                                       ,avgs2['recmac']\n",
    "                                                                       ,avgs2['f1mac']))"
   ]
  },
  {
   "cell_type": "markdown",
   "metadata": {
    "deletable": false,
    "editable": false,
    "nbgrader": {
     "cell_type": "markdown",
     "checksum": "b0a6b173e8037516e67ca3d0099d094d",
     "grade": false,
     "grade_id": "cell-e433e71229b731e8",
     "locked": true,
     "points": 1.4,
     "schema_version": 3,
     "solution": false,
     "task": true
    }
   },
   "source": [
    "## Presentation Graphic(s)"
   ]
  },
  {
   "cell_type": "markdown",
   "metadata": {},
   "source": [
    "Many of the graphics were created in the data exploration stage and the results of modeling were displayed above."
   ]
  },
  {
   "cell_type": "markdown",
   "metadata": {
    "deletable": false,
    "editable": false,
    "nbgrader": {
     "cell_type": "markdown",
     "checksum": "481aeabfd3a0aaff418e1abcfd034be3",
     "grade": false,
     "grade_id": "cell-c075a70ffbe9d335",
     "locked": true,
     "points": 1.2,
     "schema_version": 3,
     "solution": false,
     "task": true
    }
   },
   "source": [
    "## Project approach and overall execution\n",
    "Do not put anything below this cell"
   ]
  },
  {
   "cell_type": "markdown",
   "metadata": {
    "deletable": false,
    "editable": false,
    "nbgrader": {
     "cell_type": "markdown",
     "checksum": "643f1212dcfc2dbdc10f9965715144d3",
     "grade": false,
     "grade_id": "cell-307d558ea349391a",
     "locked": true,
     "points": 1,
     "schema_version": 3,
     "solution": false,
     "task": true
    }
   },
   "source": [
    "## Code Structure and Organization"
   ]
  },
  {
   "cell_type": "markdown",
   "metadata": {
    "deletable": false,
    "editable": false,
    "nbgrader": {
     "cell_type": "markdown",
     "checksum": "9b36e1b21a5c9acc76ad001762eff01f",
     "grade": false,
     "grade_id": "cell-6a61ae6d12087891",
     "locked": true,
     "points": 1,
     "schema_version": 3,
     "solution": false,
     "task": true
    }
   },
   "source": [
    "## Code Commenting"
   ]
  }
 ],
 "metadata": {
  "kernelspec": {
   "display_name": "Python 3",
   "language": "python",
   "name": "python3"
  },
  "language_info": {
   "codemirror_mode": {
    "name": "ipython",
    "version": 3
   },
   "file_extension": ".py",
   "mimetype": "text/x-python",
   "name": "python",
   "nbconvert_exporter": "python",
   "pygments_lexer": "ipython3",
   "version": "3.7.3"
  }
 },
 "nbformat": 4,
 "nbformat_minor": 4
}
